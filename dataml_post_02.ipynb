{
  "nbformat": 4,
  "nbformat_minor": 0,
  "metadata": {
    "colab": {
      "name": "dataml_post_02.ipynb",
      "provenance": [],
      "collapsed_sections": [],
      "authorship_tag": "ABX9TyPT6ecGfiU5hzsipMCAGe0O",
      "include_colab_link": true
    },
    "kernelspec": {
      "name": "python3",
      "display_name": "Python 3"
    }
  },
  "cells": [
    {
      "cell_type": "markdown",
      "metadata": {
        "id": "view-in-github",
        "colab_type": "text"
      },
      "source": [
        "<a href=\"https://colab.research.google.com/github/kevinscaccia/dataml/blob/master/dataml_post_02.ipynb\" target=\"_parent\"><img src=\"https://colab.research.google.com/assets/colab-badge.svg\" alt=\"Open In Colab\"/></a>"
      ]
    },
    {
      "cell_type": "code",
      "metadata": {
        "id": "Nx0xTnmy1biB",
        "colab_type": "code",
        "colab": {
          "base_uri": "https://localhost:8080/",
          "height": 197
        },
        "outputId": "3b16c06d-bdc1-4809-b337-bedb0dc597e2"
      },
      "source": [
        "import sys\n",
        "reload(sys)\n",
        "sys.setdefaultencoding(\"utf-8\")"
      ],
      "execution_count": 1,
      "outputs": [
        {
          "output_type": "error",
          "ename": "NameError",
          "evalue": "ignored",
          "traceback": [
            "\u001b[0;31m---------------------------------------------------------------------------\u001b[0m",
            "\u001b[0;31mNameError\u001b[0m                                 Traceback (most recent call last)",
            "\u001b[0;32m<ipython-input-1-add24ded000a>\u001b[0m in \u001b[0;36m<module>\u001b[0;34m()\u001b[0m\n\u001b[1;32m      1\u001b[0m \u001b[0;32mimport\u001b[0m \u001b[0msys\u001b[0m\u001b[0;34m\u001b[0m\u001b[0;34m\u001b[0m\u001b[0m\n\u001b[0;32m----> 2\u001b[0;31m \u001b[0mreload\u001b[0m\u001b[0;34m(\u001b[0m\u001b[0msys\u001b[0m\u001b[0;34m)\u001b[0m\u001b[0;34m\u001b[0m\u001b[0;34m\u001b[0m\u001b[0m\n\u001b[0m\u001b[1;32m      3\u001b[0m \u001b[0msys\u001b[0m\u001b[0;34m.\u001b[0m\u001b[0msetdefaultencoding\u001b[0m\u001b[0;34m(\u001b[0m\u001b[0;34m\"utf-8\"\u001b[0m\u001b[0;34m)\u001b[0m\u001b[0;34m\u001b[0m\u001b[0;34m\u001b[0m\u001b[0m\n",
            "\u001b[0;31mNameError\u001b[0m: name 'reload' is not defined"
          ]
        }
      ]
    },
    {
      "cell_type": "markdown",
      "metadata": {
        "id": "vPAYrgEuyr5Q",
        "colab_type": "text"
      },
      "source": [
        "Neste Artigo: \n",
        "* Janela deslizante (sliding window)\n",
        "* Prevendo um único valor (one-step Forecast)\n",
        "* Prevendo um Horizonte de Valores (multi-step Forecast)\n",
        "* Dividindo uma Série em Treino / Validação\n",
        "* Métricas de Avaliação\n",
        "* Escolhendo Hiperparâmetros"
      ]
    },
    {
      "cell_type": "markdown",
      "metadata": {
        "id": "Z3ZVHLA5y7qE",
        "colab_type": "text"
      },
      "source": [
        "## Aprendizado Supervisionado\n",
        "Algorítmos de Aprendizado de Máquina podem ser classificados de acordo com o tipo de informação que recebem durante seu treinamento. Dizemos que uma terefa é supervisionada quando fornecemos não só as features (características) de entrada para um modelo mas também as **saídas desejadas**(rótulos) correspondentes a cada padrão de entrada. "
      ]
    },
    {
      "cell_type": "code",
      "metadata": {
        "id": "jwjVKSZNyemS",
        "colab_type": "code",
        "colab": {}
      },
      "source": [
        "m"
      ],
      "execution_count": null,
      "outputs": []
    }
  ]
}