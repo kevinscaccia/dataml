{
  "nbformat": 4,
  "nbformat_minor": 0,
  "metadata": {
    "colab": {
      "name": "dataml_post_02.ipynb",
      "provenance": [],
      "collapsed_sections": [],
      "authorship_tag": "ABX9TyNy2fpEccuYePuhbwFYRz5w"
    },
    "kernelspec": {
      "name": "python3",
      "display_name": "Python 3"
    }
  },
  "cells": [
    {
      "cell_type": "markdown",
      "metadata": {
        "id": "qfPwDCEK13CL",
        "colab_type": "text"
      },
      "source": [
        "kévin"
      ]
    },
    {
      "cell_type": "markdown",
      "metadata": {
        "id": "vPAYrgEuyr5Q",
        "colab_type": "text"
      },
      "source": [
        "Neste Artigo: \n",
        "* Janela deslizante (sliding window)\n",
        "* Prevendo um único valor (one-step Forecast)\n",
        "* Prevendo um Horizonte de Valores (multi-step Forecast)\n",
        "* Dividindo uma Série em Treino / Validação\n",
        "* Métricas de Avaliação\n",
        "* Escolhendo Hiperparâmetros"
      ]
    },
    {
      "cell_type": "markdown",
      "metadata": {
        "id": "Z3ZVHLA5y7qE",
        "colab_type": "text"
      },
      "source": [
        "## Aprendizado Supervisionado\n",
        "Algorítmos de Aprendizado de Máquina podem ser classificados de acordo com o tipo de informação que recebem durante seu treinamento. Dizemos que uma terefa é supervisionada quando fornecemos não só as features (características) de entrada para um modelo mas também as **saídas desejadas**(rótulos) correspondentes a cada padrão de entrada. "
      ]
    },
    {
      "cell_type": "code",
      "metadata": {
        "id": "jwjVKSZNyemS",
        "colab_type": "code",
        "colab": {}
      },
      "source": [
        "m"
      ],
      "execution_count": null,
      "outputs": []
    }
  ]
}